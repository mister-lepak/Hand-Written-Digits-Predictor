{
 "cells": [
  {
   "cell_type": "markdown",
   "metadata": {},
   "source": [
    "# Predicting Hand Written Digits \n",
    "\n",
    "Data sourced from established database from UCI Machine Learning Repository (http://archive.ics.uci.edu/ml/datasets/Optical+Recognition+of+Handwritten+Digits)\n",
    "\n",
    "The objective of this project is to predict the effectiveness of Machine Learning models (i.e. K-Nearest Neighbors vs Neural Networks) on handwritten numeric digits images. This project extracts data from University of California Irvine's Machine Learning Repository for exploration. Thanks to well established database from UCI, no data cleaning was required. "
   ]
  },
  {
   "cell_type": "code",
   "execution_count": 1,
   "metadata": {},
   "outputs": [],
   "source": [
    "from sklearn.datasets import load_digits\n",
    "import pandas as pd\n",
    "import numpy as np\n",
    "import matplotlib.pyplot as plt\n",
    "%matplotlib inline\n",
    "\n",
    "digits = load_digits()"
   ]
  },
  {
   "cell_type": "code",
   "execution_count": 2,
   "metadata": {},
   "outputs": [
    {
     "name": "stdout",
     "output_type": "stream",
     "text": [
      "dict_keys(['data', 'target', 'target_names', 'images', 'DESCR'])\n"
     ]
    }
   ],
   "source": [
    "print(digits.keys())"
   ]
  },
  {
   "cell_type": "markdown",
   "metadata": {},
   "source": [
    "split digits data into data (features) and labels respectively"
   ]
  },
  {
   "cell_type": "code",
   "execution_count": 3,
   "metadata": {},
   "outputs": [],
   "source": [
    "labels = pd.Series(digits['target'])\n",
    "data = pd.DataFrame(digits['data'])"
   ]
  },
  {
   "cell_type": "markdown",
   "metadata": {},
   "source": [
    "To verify the process, extract first image to see if the it shows properly"
   ]
  },
  {
   "cell_type": "code",
   "execution_count": 4,
   "metadata": {},
   "outputs": [
    {
     "data": {
      "text/plain": [
       "<matplotlib.image.AxesImage at 0x1a1bef6978>"
      ]
     },
     "execution_count": 4,
     "metadata": {},
     "output_type": "execute_result"
    },
    {
     "data": {
      "image/png": "[encoded data removed]",
      "text/plain": [
       "<Figure size 432x288 with 1 Axes>"
      ]
     },
     "metadata": {
      "needs_background": "light"
     },
     "output_type": "display_data"
    }
   ],
   "source": [
    "first_image = data.iloc[0]\n",
    "np_image = first_image.values\n",
    "np_image = np_image.reshape(8,8)\n",
    "\n",
    "plt.imshow(np_image, cmap ='gray_r')"
   ]
  },
  {
   "cell_type": "code",
   "execution_count": 5,
   "metadata": {},
   "outputs": [
    {
     "data": {
      "text/plain": [
       "<matplotlib.image.AxesImage at 0x1a1bfe2c18>"
      ]
     },
     "execution_count": 5,
     "metadata": {},
     "output_type": "execute_result"
    },
    {
     "data": {
      "image/png": "[encoded data removed]",
      "text/plain": [
       "<Figure size 432x288 with 8 Axes>"
      ]
     },
     "metadata": {
      "needs_background": "light"
     },
     "output_type": "display_data"
    }
   ],
   "source": [
    "f, axarr = plt.subplots(2,4)\n",
    "axarr[0,0].imshow(data.iloc[0].values.reshape(8,8), cmap ='gray_r')\n",
    "axarr[0,1].imshow(data.iloc[99].values.reshape(8,8), cmap = 'gray_r')\n",
    "axarr[0,2].imshow(data.iloc[199].values.reshape(8,8), cmap = 'gray_r')\n",
    "axarr[0,3].imshow(data.iloc[299].values.reshape(8,8), cmap = 'gray_r')\n",
    "\n",
    "axarr[1,0].imshow(data.iloc[999].values.reshape(8,8), cmap = 'gray_r')\n",
    "axarr[1,1].imshow(data.iloc[1099].values.reshape(8,8), cmap = 'gray_r')\n",
    "axarr[1,2].imshow(data.iloc[1199].values.reshape(8,8), cmap = 'gray_r')\n",
    "axarr[1,3].imshow(data.iloc[1299].values.reshape(8,8), cmap = 'gray_r')"
   ]
  },
  {
   "cell_type": "markdown",
   "metadata": {},
   "source": [
    "# K-Nearest Neighbors Model"
   ]
  },
  {
   "cell_type": "code",
   "execution_count": 6,
   "metadata": {},
   "outputs": [
    {
     "data": {
      "text/plain": [
       "0.9677233358079684"
      ]
     },
     "execution_count": 6,
     "metadata": {},
     "output_type": "execute_result"
    }
   ],
   "source": [
    "from sklearn.neighbors import KNeighborsClassifier\n",
    "from sklearn.model_selection import KFold\n",
    "\n",
    "#50% Test/Train selection\n",
    "\n",
    "#Function for Initiating K-NN training Model\n",
    "def train_knn(nneighbors, train_data, train_labels):\n",
    "    knn_model = KNeighborsClassifier(n_neighbors = nneighbors)\n",
    "    knn_model.fit(train_data, train_labels)\n",
    "    return knn_model\n",
    "\n",
    "#Function for Test model\n",
    "def test(knn, test_data, test_labels):\n",
    "    predictions = knn.predict(test_data)\n",
    "    train_test_df = pd.DataFrame()\n",
    "    train_test_df['correct label'] = test_labels\n",
    "    train_test_df['predicted label'] = predictions\n",
    "    overall_accuracy = sum(train_test_df['correct label'] == train_test_df['predicted label'])/ len(train_test_df['predicted label'])\n",
    "    return overall_accuracy\n",
    "\n",
    "def cross_validate(k):\n",
    "    kf_accuracy = []\n",
    "    kf = KFold(n_splits = 4, random_state = 2)\n",
    "    for train_index, test_index in kf.split(data):\n",
    "        train_features, test_features = data.iloc[train_index], data.iloc[test_index]\n",
    "        train_labels, test_labels = labels.iloc[train_index], labels.iloc[test_index]\n",
    "        model = train_knn(k, train_features, train_labels)\n",
    "        overall_accuracy = test(model, test_features, test_labels)\n",
    "        kf_accuracy.append(overall_accuracy)\n",
    "    return kf_accuracy\n",
    "\n",
    "knn_one_accuracy = cross_validate(1)\n",
    "np.mean(knn_one_accuracy)\n",
    "    "
   ]
  },
  {
   "cell_type": "code",
   "execution_count": 7,
   "metadata": {},
   "outputs": [
    {
     "data": {
      "text/plain": [
       "[<matplotlib.lines.Line2D at 0x1a1ce51be0>]"
      ]
     },
     "execution_count": 7,
     "metadata": {},
     "output_type": "execute_result"
    },
    {
     "data": {
      "image/png": "[encoded data removed]",
      "text/plain": [
       "<Figure size 432x288 with 1 Axes>"
      ]
     },
     "metadata": {
      "needs_background": "light"
     },
     "output_type": "display_data"
    }
   ],
   "source": [
    "k_values = list(range(1,10))\n",
    "k_overall_accuracies = []\n",
    "\n",
    "for k in k_values:\n",
    "    k_accuracy = cross_validate(k)\n",
    "    k_mean_accuracy = np.mean(k_accuracy)\n",
    "    k_overall_accuracies.append(k_mean_accuracy)\n",
    "    \n",
    "plt.plot(k_overall_accuracies)"
   ]
  },
  {
   "cell_type": "markdown",
   "metadata": {},
   "source": [
    "# Summary\n",
    "\n",
    "The accuracy of K-Nearest Neighbors model stands at 96%. \n",
    "\n",
    "The performance of KNN accuracy reduces as the k value increases."
   ]
  },
  {
   "cell_type": "markdown",
   "metadata": {},
   "source": [
    "# Neural Network with Single Hidden Layer"
   ]
  },
  {
   "cell_type": "code",
   "execution_count": 11,
   "metadata": {},
   "outputs": [
    {
     "name": "stderr",
     "output_type": "stream",
     "text": [
      "/Users/try/anaconda3/lib/python3.7/site-packages/sklearn/neural_network/multilayer_perceptron.py:562: ConvergenceWarning: Stochastic Optimizer: Maximum iterations (200) reached and the optimization hasn't converged yet.\n",
      "  % self.max_iter, ConvergenceWarning)\n",
      "/Users/try/anaconda3/lib/python3.7/site-packages/sklearn/neural_network/multilayer_perceptron.py:562: ConvergenceWarning: Stochastic Optimizer: Maximum iterations (200) reached and the optimization hasn't converged yet.\n",
      "  % self.max_iter, ConvergenceWarning)\n",
      "/Users/try/anaconda3/lib/python3.7/site-packages/sklearn/neural_network/multilayer_perceptron.py:562: ConvergenceWarning: Stochastic Optimizer: Maximum iterations (200) reached and the optimization hasn't converged yet.\n",
      "  % self.max_iter, ConvergenceWarning)\n",
      "/Users/try/anaconda3/lib/python3.7/site-packages/sklearn/neural_network/multilayer_perceptron.py:562: ConvergenceWarning: Stochastic Optimizer: Maximum iterations (200) reached and the optimization hasn't converged yet.\n",
      "  % self.max_iter, ConvergenceWarning)\n",
      "/Users/try/anaconda3/lib/python3.7/site-packages/sklearn/neural_network/multilayer_perceptron.py:562: ConvergenceWarning: Stochastic Optimizer: Maximum iterations (200) reached and the optimization hasn't converged yet.\n",
      "  % self.max_iter, ConvergenceWarning)\n",
      "/Users/try/anaconda3/lib/python3.7/site-packages/sklearn/neural_network/multilayer_perceptron.py:562: ConvergenceWarning: Stochastic Optimizer: Maximum iterations (200) reached and the optimization hasn't converged yet.\n",
      "  % self.max_iter, ConvergenceWarning)\n",
      "/Users/try/anaconda3/lib/python3.7/site-packages/sklearn/neural_network/multilayer_perceptron.py:562: ConvergenceWarning: Stochastic Optimizer: Maximum iterations (200) reached and the optimization hasn't converged yet.\n",
      "  % self.max_iter, ConvergenceWarning)\n",
      "/Users/try/anaconda3/lib/python3.7/site-packages/sklearn/neural_network/multilayer_perceptron.py:562: ConvergenceWarning: Stochastic Optimizer: Maximum iterations (200) reached and the optimization hasn't converged yet.\n",
      "  % self.max_iter, ConvergenceWarning)\n",
      "/Users/try/anaconda3/lib/python3.7/site-packages/sklearn/neural_network/multilayer_perceptron.py:562: ConvergenceWarning: Stochastic Optimizer: Maximum iterations (200) reached and the optimization hasn't converged yet.\n",
      "  % self.max_iter, ConvergenceWarning)\n",
      "/Users/try/anaconda3/lib/python3.7/site-packages/sklearn/neural_network/multilayer_perceptron.py:562: ConvergenceWarning: Stochastic Optimizer: Maximum iterations (200) reached and the optimization hasn't converged yet.\n",
      "  % self.max_iter, ConvergenceWarning)\n",
      "/Users/try/anaconda3/lib/python3.7/site-packages/sklearn/neural_network/multilayer_perceptron.py:562: ConvergenceWarning: Stochastic Optimizer: Maximum iterations (200) reached and the optimization hasn't converged yet.\n",
      "  % self.max_iter, ConvergenceWarning)\n",
      "/Users/try/anaconda3/lib/python3.7/site-packages/sklearn/neural_network/multilayer_perceptron.py:562: ConvergenceWarning: Stochastic Optimizer: Maximum iterations (200) reached and the optimization hasn't converged yet.\n",
      "  % self.max_iter, ConvergenceWarning)\n"
     ]
    },
    {
     "data": {
      "text/plain": [
       "[<matplotlib.lines.Line2D at 0x1a1d5b6cc0>]"
      ]
     },
     "execution_count": 11,
     "metadata": {},
     "output_type": "execute_result"
    },
    {
     "data": {
      "image/png": "[encoded data removed]",
      "text/plain": [
       "<Figure size 576x288 with 1 Axes>"
      ]
     },
     "metadata": {
      "needs_background": "light"
     },
     "output_type": "display_data"
    }
   ],
   "source": [
    "from sklearn.neural_network import MLPClassifier\n",
    "from sklearn.model_selection import KFold\n",
    "\n",
    "#50% Train/Test Split\n",
    "def train_nn(neuron_arch, train_features, train_labels):\n",
    "    nn_model = MLPClassifier(hidden_layer_sizes = neuron_arch)\n",
    "    nn_model.fit(train_features, train_labels)\n",
    "    return nn_model\n",
    "\n",
    "def test_nn(nn_model, test_features, test_labels):\n",
    "    nn_accuracies = []\n",
    "    predictions = nn_model.predict(test_features)\n",
    "    train_test_df = pd.DataFrame()\n",
    "    train_test_df['correct label'] = test_labels\n",
    "    train_test_df['predicted label'] = predictions\n",
    "    accuracy = sum(train_test_df['correct label'] == train_test_df['predicted label'])/len(train_test_df)\n",
    "    nn_accuracies.append(accuracy)\n",
    "    return nn_accuracies\n",
    "\n",
    "def cross_validate(neuron_arch):\n",
    "    kf_accuracy = []\n",
    "    kf = KFold(n_splits = 4, random_state = 2)\n",
    "    for train_index, test_index in kf.split(data):\n",
    "        train_features, test_features = data.iloc[train_index], data.iloc[test_index]\n",
    "        train_labels, test_labels = labels.iloc[train_index], labels.iloc[test_index]\n",
    "        nn_model = train_nn(neuron_arch, train_features, train_labels)\n",
    "        nn_accuracies = test_nn(nn_model, test_features, test_labels)\n",
    "        kf_accuracy.append(nn_accuracies)\n",
    "    return kf_accuracy\n",
    "\n",
    "neuron_arch = [(8,),(16,),(32,),(64,),(128,),(256,)]\n",
    "\n",
    "nn_overall_accuracies = []\n",
    "\n",
    "for neuron in neuron_arch:\n",
    "    nn_accuracies = cross_validate(neuron)\n",
    "    nn_mean_accuracy = np.mean(nn_accuracies)\n",
    "    nn_overall_accuracies.append(nn_mean_accuracy)\n",
    "    \n",
    "plt.figure(figsize=(8,4))\n",
    "plt.title(\"Mean Accuracy vs. Neurons In Single Hidden Layer\")\n",
    "\n",
    "x = [i[0] for i in neuron_arch]\n",
    "plt.plot(x, nn_overall_accuracies)"
   ]
  },
  {
   "cell_type": "markdown",
   "metadata": {},
   "source": [
    "\n",
    "# Summary\n",
    "\n",
    "It looks like adding more neurons to the single hidden layer helped massively improved simple accuracy from approximately 86% to approximately 94%. Simple accuracy computes the number of correct classifications the model made, but doesn't tell us anything about false or true positives or false or true negatives.\n",
    "\n",
    "Given that k-nearest neighbors achieved approximately 96% accuracy, there doesn't seem to be any advantages to using a single hidden layer neural network for this problem."
   ]
  },
  {
   "cell_type": "markdown",
   "metadata": {
    "collapsed": true
   },
   "source": [
    "# Neural Network with 2 Hidden Layers"
   ]
  },
  {
   "cell_type": "code",
   "execution_count": 13,
   "metadata": {},
   "outputs": [
    {
     "data": {
      "text/plain": [
       "[<matplotlib.lines.Line2D at 0x1a1fe31f98>]"
      ]
     },
     "execution_count": 13,
     "metadata": {},
     "output_type": "execute_result"
    },
    {
     "data": {
      "image/png": "[encoded data removed]",
      "text/plain": [
       "<Figure size 576x288 with 1 Axes>"
      ]
     },
     "metadata": {
      "needs_background": "light"
     },
     "output_type": "display_data"
    }
   ],
   "source": [
    "neurons_arch = [(64,64),(128,128), (256,256)]\n",
    "\n",
    "nn_2_layers_overall_accuracies = []\n",
    "\n",
    "for neuron in neurons_arch:\n",
    "    nn_accuracies = cross_validate(neuron)\n",
    "    nn_2_layers_mean_accuracy = np.mean(nn_accuracies)\n",
    "    nn_2_layers_overall_accuracies.append(nn_2_layers_mean_accuracy)\n",
    "    \n",
    "plt.figure(figsize =(8,4))\n",
    "plt.title(\"Mean Accuracy vs Neurons in Double Hidden Layer\")\n",
    "\n",
    "x = [i[0] for i in neurons_arch]\n",
    "plt.plot(x , nn_2_layers_overall_accuracies)\n"
   ]
  },
  {
   "cell_type": "markdown",
   "metadata": {},
   "source": [
    "# Summary\n",
    "\n",
    "Using 2 hidden layers improved our simple accuracy to 95%. Athough there is a possibility of overfitting, however by applying K-Fold Cross Validation gave the assurance that generalization has been made to achieve the extra 1%."
   ]
  },
  {
   "cell_type": "code",
   "execution_count": 14,
   "metadata": {},
   "outputs": [
    {
     "name": "stderr",
     "output_type": "stream",
     "text": [
      "/Users/try/anaconda3/lib/python3.7/site-packages/sklearn/neural_network/multilayer_perceptron.py:562: ConvergenceWarning: Stochastic Optimizer: Maximum iterations (200) reached and the optimization hasn't converged yet.\n",
      "  % self.max_iter, ConvergenceWarning)\n",
      "/Users/try/anaconda3/lib/python3.7/site-packages/sklearn/neural_network/multilayer_perceptron.py:562: ConvergenceWarning: Stochastic Optimizer: Maximum iterations (200) reached and the optimization hasn't converged yet.\n",
      "  % self.max_iter, ConvergenceWarning)\n",
      "/Users/try/anaconda3/lib/python3.7/site-packages/sklearn/neural_network/multilayer_perceptron.py:562: ConvergenceWarning: Stochastic Optimizer: Maximum iterations (200) reached and the optimization hasn't converged yet.\n",
      "  % self.max_iter, ConvergenceWarning)\n",
      "/Users/try/anaconda3/lib/python3.7/site-packages/sklearn/neural_network/multilayer_perceptron.py:562: ConvergenceWarning: Stochastic Optimizer: Maximum iterations (200) reached and the optimization hasn't converged yet.\n",
      "  % self.max_iter, ConvergenceWarning)\n",
      "/Users/try/anaconda3/lib/python3.7/site-packages/sklearn/neural_network/multilayer_perceptron.py:562: ConvergenceWarning: Stochastic Optimizer: Maximum iterations (200) reached and the optimization hasn't converged yet.\n",
      "  % self.max_iter, ConvergenceWarning)\n",
      "/Users/try/anaconda3/lib/python3.7/site-packages/sklearn/neural_network/multilayer_perceptron.py:562: ConvergenceWarning: Stochastic Optimizer: Maximum iterations (200) reached and the optimization hasn't converged yet.\n",
      "  % self.max_iter, ConvergenceWarning)\n"
     ]
    },
    {
     "data": {
      "text/plain": [
       "[<matplotlib.lines.Line2D at 0x1a1fcc5a20>]"
      ]
     },
     "execution_count": 14,
     "metadata": {},
     "output_type": "execute_result"
    },
    {
     "data": {
      "image/png": "[encoded data removed]",
      "text/plain": [
       "<Figure size 576x144 with 1 Axes>"
      ]
     },
     "metadata": {
      "needs_background": "light"
     },
     "output_type": "display_data"
    }
   ],
   "source": [
    "def new_cross_validate(neuron_arch):\n",
    "    kf_accuracy = []\n",
    "    kf = KFold(n_splits = 6, random_state = 2)\n",
    "    for train_index, test_index in kf.split(data):\n",
    "        train_features, test_features = data.iloc[train_index], data.iloc[test_index]\n",
    "        train_labels, test_labels = labels.iloc[train_index], labels.iloc[test_index]\n",
    "        nn_model = train_nn(neuron_arch, train_features, train_labels)\n",
    "        nn_accuracies = test_nn(nn_model, test_features, test_labels)\n",
    "        kf_accuracy.append(nn_accuracies)\n",
    "    return kf_accuracy\n",
    "\n",
    "three_layers_neurons = [(10,10,10),(64,64,64), (128,128,128)]\n",
    "\n",
    "three_layers_overall_nn_accuracies = []\n",
    "\n",
    "for neuron in three_layers_neurons:\n",
    "    nn_accuracies = new_cross_validate(neuron)\n",
    "    nn_mean_three_layers_accuracy = np.mean(nn_accuracies)\n",
    "    three_layers_overall_nn_accuracies.append(nn_mean_three_layers_accuracy)\n",
    "    \n",
    "plt.figure(figsize = (8,2))\n",
    "plt.title(\"Mean Accuracy vs Neurons in Triple Hidden Layer\")\n",
    "\n",
    "x = [i[0] for i in three_layers_neurons]\n",
    "plt.plot(x, three_layers_overall_nn_accuracies)"
   ]
  },
  {
   "cell_type": "markdown",
   "metadata": {},
   "source": [
    "# Summary\n",
    "\n",
    "Using 3 hidden layers improved our simple accuracy to 96%, even with 6-fold cross validation. This is inline with typical understanding with research literature that accuracy is proportionate to # of hidden layers."
   ]
  },
  {
   "cell_type": "code",
   "execution_count": null,
   "metadata": {},
   "outputs": [],
   "source": []
  }
 ],
 "metadata": {
  "anaconda-cloud": {},
  "kernelspec": {
   "display_name": "Python 3",
   "language": "python",
   "name": "python3"
  },
  "language_info": {
   "codemirror_mode": {
    "name": "ipython",
    "version": 3
   },
   "file_extension": ".py",
   "mimetype": "text/x-python",
   "name": "python",
   "nbconvert_exporter": "python",
   "pygments_lexer": "ipython3",
   "version": "3.7.3"
  }
 },
 "nbformat": 4,
 "nbformat_minor": 2
}
